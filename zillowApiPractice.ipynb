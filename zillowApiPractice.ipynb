{
 "cells": [
  {
   "cell_type": "code",
   "execution_count": 13,
   "metadata": {},
   "outputs": [],
   "source": [
    "from pyzillow.pyzillow import ZillowWrapper, GetDeepSearchResults"
   ]
  },
  {
   "cell_type": "code",
   "execution_count": 14,
   "metadata": {},
   "outputs": [
    {
     "name": "stdout",
     "output_type": "stream",
     "text": [
      "37501972\n"
     ]
    }
   ],
   "source": [
    "address=\"7108 Forbes Blvd\"\n",
    "zipcode = '20706'\n",
    "YOUR_ZILLOW_API_KEY=\"X1-ZWz182w98la0az_9vdv4\"\n",
    "\n",
    "zillow_data = ZillowWrapper(YOUR_ZILLOW_API_KEY)\n",
    "deep_search_response = zillow_data.get_deep_search_results(address,zipcode)\n",
    "result = GetDeepSearchResults(deep_search_response)\n",
    "\n",
    "print(str(result))# zillow id, needed for the GetUpdatedPropertyDetails"
   ]
  },
  {
   "cell_type": "code",
   "execution_count": null,
   "metadata": {},
   "outputs": [],
   "source": []
  }
 ],
 "metadata": {
  "kernelspec": {
   "display_name": "Python 3",
   "language": "python",
   "name": "python3"
  },
  "language_info": {
   "codemirror_mode": {
    "name": "ipython",
    "version": 3
   },
   "file_extension": ".py",
   "mimetype": "text/x-python",
   "name": "python",
   "nbconvert_exporter": "python",
   "pygments_lexer": "ipython3",
   "version": "3.7.1"
  }
 },
 "nbformat": 4,
 "nbformat_minor": 2
}
